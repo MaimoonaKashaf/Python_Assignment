{
 "cells": [
  {
   "cell_type": "code",
   "execution_count": 7,
   "metadata": {},
   "outputs": [
    {
     "name": "stdout",
     "output_type": "stream",
     "text": [
      "['__add__', '__class__', '__contains__', '__delattr__', '__dir__', '__doc__', '__eq__', '__format__', '__ge__', '__getattribute__', '__getitem__', '__getnewargs__', '__gt__', '__hash__', '__init__', '__init_subclass__', '__iter__', '__le__', '__len__', '__lt__', '__mod__', '__mul__', '__ne__', '__new__', '__reduce__', '__reduce_ex__', '__repr__', '__rmod__', '__rmul__', '__setattr__', '__sizeof__', '__str__', '__subclasshook__', 'capitalize', 'casefold', 'center', 'count', 'encode', 'endswith', 'expandtabs', 'find', 'format', 'format_map', 'index', 'isalnum', 'isalpha', 'isascii', 'isdecimal', 'isdigit', 'isidentifier', 'islower', 'isnumeric', 'isprintable', 'isspace', 'istitle', 'isupper', 'join', 'ljust', 'lower', 'lstrip', 'maketrans', 'partition', 'replace', 'rfind', 'rindex', 'rjust', 'rpartition', 'rsplit', 'rstrip', 'split', 'splitlines', 'startswith', 'strip', 'swapcase', 'title', 'translate', 'upper', 'zfill']\n"
     ]
    }
   ],
   "source": [
    "mak = \"'       maimoona     ;\"\n",
    "print(dir(mak))"
   ]
  },
  {
   "cell_type": "code",
   "execution_count": 8,
   "metadata": {},
   "outputs": [
    {
     "name": "stdout",
     "output_type": "stream",
     "text": [
      "'       MAIMOONA     ;\n",
      "'       maimoona     ;\n",
      "'       Maimoona     ;\n",
      "'       maimoona     ;\n",
      "'       maimoona     ;\n",
      "'       MAIMOONA     ;\n",
      "'       maimoona     ;\n",
      "False\n",
      "[\"'       maimoona     ;\"]\n",
      "[\"'\", 'maimoona', ';']\n",
      "'       maimoona     ;\n",
      "[\"'       maimoona     ;\"]\n",
      "'       maimoona     ;\n",
      "14\n",
      "10\n",
      "kashaf\n",
      "(\"'       maim\", 'o', 'ona     ;')\n",
      "{107: 75, 97: 65, 115: 83, 104: 72, 102: 70}\n",
      "'       maimoona     ;\n",
      "'       maimoona     ;\n",
      "'       maimoona     ;\n",
      "K'       maimoona     ;A'       maimoona     ;S'       maimoona     ;H\n",
      "False\n",
      "False\n",
      "False\n",
      "True\n",
      "False\n",
      "True\n",
      "False\n",
      "False\n",
      "True\n",
      "False\n",
      "False\n",
      "12\n",
      "'       maimoona     ;\n",
      "9\n",
      "'       maimoona     ;\n",
      "False\n",
      "b\"'       maimoona     ;\"\n",
      "0\n",
      "'       maimoona     ;\n",
      "'       maimoona     ;\n",
      "'       maimoona     ;\n"
     ]
    },
    {
     "data": {
      "text/plain": [
       "22"
      ]
     },
     "execution_count": 8,
     "metadata": {},
     "output_type": "execute_result"
    }
   ],
   "source": [
    "print(mak.upper())\n",
    "name='kashaf'\n",
    "print(mak.format())\n",
    "print(mak.title())\n",
    "print(mak.zfill(12))\n",
    "print(mak.translate(name))\n",
    "print(mak.swapcase())\n",
    "print(mak.strip(name))\n",
    "print(mak.startswith(\"i\"))\n",
    "print(mak.splitlines(1))\n",
    "print(mak.split())\n",
    "print(mak.rstrip(name))\n",
    "print(mak.rsplit(name))\n",
    "print(mak.rjust(10))\n",
    "print(mak.rindex(\"n\"))\n",
    "print(mak.rfind(\"i\"))\n",
    "print(mak.replace(mak,name))\n",
    "print(mak.partition(\"o\"))\n",
    "print(mak.maketrans(name,\"KASHAF\"))\n",
    "print(mak.lstrip())\n",
    "print(mak.lower())\n",
    "print(mak.ljust(5))\n",
    "print(mak.join(\"KASH\"))\n",
    "print(mak.isupper())\n",
    "print(mak.istitle())\n",
    "print(mak.isspace())\n",
    "print(mak.isprintable())\n",
    "print(mak.isnumeric())\n",
    "print(mak.islower())\n",
    "print(mak.isdigit())\n",
    "print(mak.isdecimal())\n",
    "print(mak.isascii())\n",
    "print(mak.isalpha())\n",
    "print(mak.isalnum())\n",
    "print(mak.index(\"o\"))\n",
    "print(mak.format_map(name))\n",
    "print(mak.find(\"a\"))\n",
    "print(mak.expandtabs(4))\n",
    "print(mak.endswith(\"a\"))\n",
    "print(mak.encode())\n",
    "print(mak.count(name))\n",
    "print(mak.center(0))\n",
    "print(mak.casefold())\n",
    "print(mak.capitalize())\n",
    "len(mak)"
   ]
  },
  {
   "cell_type": "code",
   "execution_count": null,
   "metadata": {},
   "outputs": [],
   "source": []
  },
  {
   "cell_type": "code",
   "execution_count": null,
   "metadata": {},
   "outputs": [],
   "source": []
  },
  {
   "cell_type": "code",
   "execution_count": null,
   "metadata": {},
   "outputs": [],
   "source": []
  }
 ],
 "metadata": {
  "kernelspec": {
   "display_name": "Python 3",
   "language": "python",
   "name": "python3"
  },
  "language_info": {
   "codemirror_mode": {
    "name": "ipython",
    "version": 3
   },
   "file_extension": ".py",
   "mimetype": "text/x-python",
   "name": "python",
   "nbconvert_exporter": "python",
   "pygments_lexer": "ipython3",
   "version": "3.7.4"
  }
 },
 "nbformat": 4,
 "nbformat_minor": 2
}
