{
 "cells": [
  {
   "cell_type": "code",
   "execution_count": 7,
   "metadata": {},
   "outputs": [
    {
     "name": "stdout",
     "output_type": "stream",
     "text": [
      "Enter any integer\n",
      "5\n",
      " Is a positive integer\n"
     ]
    }
   ],
   "source": [
    "num = int(input(\"Enter any integer\\n\"))\n",
    "if num>=0:\n",
    "    print(\"Is a positive integer\")\n",
    "else:\n",
    "    print(\"Is a negative integer\")\n"
   ]
  },
  {
   "cell_type": "markdown",
   "metadata": {},
   "source": [
    "### "
   ]
  },
  {
   "cell_type": "code",
   "execution_count": 7,
   "metadata": {},
   "outputs": [
    {
     "name": "stdout",
     "output_type": "stream",
     "text": [
      "90\n",
      "99\n",
      "98\n",
      "97\n",
      "99\n",
      "A Grade\n"
     ]
    }
   ],
   "source": [
    "summ=0\n",
    "for i in range(0,5):\n",
    "    sub=int(input())\n",
    "    summ=summ+sub\n",
    "    \n",
    "avg=summ/5\n",
    "if avg>=80:\n",
    "    print(\"A Grade\")\n",
    "elif avg<=79 and avg>=60:\n",
    "    print(\"B Grade\")\n",
    "else:\n",
    "    print(\"Failed\")\n",
    "\n",
    " "
   ]
  },
  {
   "cell_type": "code",
   "execution_count": 2,
   "metadata": {},
   "outputs": [
    {
     "name": "stdout",
     "output_type": "stream",
     "text": [
      "4\n",
      "2\n",
      "After Divison Quotient is 2 and remainder is 0 \n"
     ]
    }
   ],
   "source": [
    "num1=int(input())\n",
    "num2=int(input())\n",
    "quotient = num1/num2\n",
    "remainder = num1%num2\n",
    "print(\"After Divison Quotient is %d and remainder is %d \"%(quotient,remainder))"
   ]
  },
  {
   "cell_type": "code",
   "execution_count": 3,
   "metadata": {},
   "outputs": [
    {
     "name": "stdout",
     "output_type": "stream",
     "text": [
      "1\n",
      "5\n",
      "7\n",
      "11\n",
      "13\n",
      "17\n",
      "19\n",
      "23\n",
      "25\n",
      "29\n",
      "31\n",
      "35\n",
      "37\n",
      "41\n",
      "43\n",
      "47\n",
      "49\n"
     ]
    }
   ],
   "source": [
    "for i in range(0,51):\n",
    "    if i%2!=0 and i%3!=0 :\n",
    "        print(i)"
   ]
  },
  {
   "cell_type": "code",
   "execution_count": 6,
   "metadata": {},
   "outputs": [
    {
     "name": "stdout",
     "output_type": "stream",
     "text": [
      "Enter 1st value(any integer)10\n",
      "Enter 2nd value(any integer)5\n",
      "Now!! first value is 5\n",
      "Second value is 10\n"
     ]
    }
   ],
   "source": [
    "val1 = int(input(\"Enter 1st value(any integer)\"))\n",
    "val2 = int(input(\"Enter 2nd value(any integer)\"))\n",
    "\n",
    "val1 = val1+val2\n",
    "val2 = val1-val2\n",
    "val1 = val1-val2\n",
    "\n",
    "print(\"Now!! first value is %d\\nSecond value is %d\"%(val1,val2))"
   ]
  },
  {
   "cell_type": "code",
   "execution_count": 11,
   "metadata": {},
   "outputs": [
    {
     "name": "stdout",
     "output_type": "stream",
     "text": [
      "4\n",
      "5\n",
      "6\n",
      "Area of triangle is  7.5\n",
      "When sides are  [4, 5, 6]\n"
     ]
    }
   ],
   "source": [
    "sides =[]\n",
    "sum_of_side = 0\n",
    "for i in range(0,3):\n",
    "    side = int(input())\n",
    "    sides.append(side)\n",
    "    sum_of_side = side+sum_of_side\n",
    "area=sum_of_side/2\n",
    "print(\"Area of triangle is \",area)\n",
    "print(\"When sides are \",sides)"
   ]
  },
  {
   "cell_type": "markdown",
   "metadata": {},
   "source": [
    "## even_list=[]\n",
    "odd_list=[]\n",
    "temp =0 \n",
    "for i in range(0,10):\n",
    "    temp =int(input())\n",
    "    if temp%2==0:\n",
    "        even_list.append(temp)\n",
    "    else:\n",
    "        odd_list.append(temp)\n",
    "        \n",
    "print(\"Even List before sorting \",even_list)\n",
    "print(\"Odd List before sorting \",odd_list)\n",
    "for i in range(0,len(even_list)):\n",
    "    for j in range(0,len(even_list)-1):\n",
    "        if even_list[j]>even_list[j+1] :\n",
    "            temp = even_list[j]\n",
    "            even_list[j] = even_list[j+1]\n",
    "            even_list[j+1] = temp\n",
    "\n",
    "            \n",
    "for i in range(0,len(odd_list)):\n",
    "    for j in range(0,len(odd_list)-1):\n",
    "        if odd_list[j]>odd_list[j+1] :\n",
    "            temp = odd_list[j]\n",
    "            odd_list[j] = odd_list[j+1]\n",
    "            odd_list[j+1] = temp \n",
    "    \n",
    "print(\"\\n\\nEven List after sorting \",even_list)\n",
    "print(\"odd List after sorting \",odd_list)\n",
    "\n",
    "\n",
    "\n",
    "print(\"Largets Even Value is \",even_list[-1])\n",
    "print(\"Largets Odd Value is \",odd_list[-1])"
   ]
  },
  {
   "cell_type": "code",
   "execution_count": 26,
   "metadata": {},
   "outputs": [
    {
     "name": "stdout",
     "output_type": "stream",
     "text": [
      "55\n"
     ]
    }
   ],
   "source": [
    "num_list =[11,22,33,44,55,77]\n",
    "\n",
    "\n",
    "for i in range(0,len(num_list)):\n",
    "    for j in range(0,len(num_list)-1):\n",
    "        if num_list[j]>num_list[j+1] :\n",
    "            temp = num_list[j]\n",
    "            num_list[j] = numm_list[j+1]\n",
    "            num_list[j+1] = temp \n",
    "print(num_list[-2])"
   ]
  },
  {
   "cell_type": "code",
   "execution_count": 27,
   "metadata": {},
   "outputs": [
    {
     "name": "stdout",
     "output_type": "stream",
     "text": [
      "[1, 2, 5, 2, 7, 9]\n"
     ]
    }
   ],
   "source": [
    "list1=[1,2,5]\n",
    "list2=[2,7,9]\n",
    "for i in range(0,3):\n",
    "    if list1[i]!=list2[i]:\n",
    "        list1.append(list2[i])\n",
    "print(list1)"
   ]
  },
  {
   "cell_type": "code",
   "execution_count": null,
   "metadata": {},
   "outputs": [],
   "source": []
  }
 ],
 "metadata": {
  "kernelspec": {
   "display_name": "Python 3",
   "language": "python",
   "name": "python3"
  },
  "language_info": {
   "codemirror_mode": {
    "name": "ipython",
    "version": 3
   },
   "file_extension": ".py",
   "mimetype": "text/x-python",
   "name": "python",
   "nbconvert_exporter": "python",
   "pygments_lexer": "ipython3",
   "version": "3.7.4"
  }
 },
 "nbformat": 4,
 "nbformat_minor": 2
}
