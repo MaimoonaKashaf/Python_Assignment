{
 "cells": [
  {
   "cell_type": "code",
   "execution_count": 24,
   "metadata": {},
   "outputs": [
    {
     "name": "stdout",
     "output_type": "stream",
     "text": [
      "{'Name': 'Maimoona Kashaf', 'CGPA': 3.77, 'Age': 21, 'Degree': 'Software Engineering', 'Semester': 6}\n"
     ]
    }
   ],
   "source": [
    "my_data = {\n",
    "    \"Name\":\"Maimoona Kashaf\",\n",
    "    \"CGPA\":3.77,\n",
    "    \"Age\":21,\n",
    "    \"Degree\":\"Software Engineering\",\n",
    "    \"Semester\":6\n",
    "}\n",
    "print(my_data)\n"
   ]
  },
  {
   "cell_type": "code",
   "execution_count": 9,
   "metadata": {},
   "outputs": [
    {
     "name": "stdout",
     "output_type": "stream",
     "text": [
      "dict_items([('Name', 'Maimoona Kashaf'), ('CGPA', 3.77), ('Age', 21), ('Degree', 'Software Engineering'), ('Semester', 6)])\n",
      "dict_keys(['Name', 'CGPA', 'Age', 'Degree', 'Semester'])\n",
      "dict_values(['Maimoona Kashaf', 3.77, 21, 'Software Engineering', 6])\n"
     ]
    }
   ],
   "source": [
    "#1. Which of the following terms are related to dictionaries?\n",
    "\n",
    "print(my_data.items())\n",
    "print(my_data.keys())\n",
    "print(my_data.values())\n",
    "\n",
    "#only index is not related to dicitionaries"
   ]
  },
  {
   "cell_type": "code",
   "execution_count": 12,
   "metadata": {},
   "outputs": [
    {
     "ename": "TypeError",
     "evalue": "unsupported operand type(s) for +: 'dict' and 'dict'",
     "output_type": "error",
     "traceback": [
      "\u001b[1;31m---------------------------------------------------------------------------\u001b[0m",
      "\u001b[1;31mTypeError\u001b[0m                                 Traceback (most recent call last)",
      "\u001b[1;32m<ipython-input-12-f4bc1977a152>\u001b[0m in \u001b[0;36m<module>\u001b[1;34m\u001b[0m\n\u001b[0;32m      1\u001b[0m \u001b[1;31m#2. Just like lists, + operator is used to extend dictionaries?\u001b[0m\u001b[1;33m\u001b[0m\u001b[1;33m\u001b[0m\u001b[1;33m\u001b[0m\u001b[0m\n\u001b[0;32m      2\u001b[0m \u001b[0mbio\u001b[0m \u001b[1;33m=\u001b[0m \u001b[1;33m{\u001b[0m\u001b[1;34m\"Sub1\"\u001b[0m\u001b[1;33m:\u001b[0m\u001b[1;34m\"MATH\"\u001b[0m\u001b[1;33m,\u001b[0m\u001b[1;34m\"Sub2\"\u001b[0m\u001b[1;33m:\u001b[0m\u001b[1;34m\"Programming\"\u001b[0m\u001b[1;33m}\u001b[0m\u001b[1;33m\u001b[0m\u001b[1;33m\u001b[0m\u001b[0m\n\u001b[1;32m----> 3\u001b[1;33m \u001b[0mnew\u001b[0m \u001b[1;33m=\u001b[0m \u001b[0mmy_data\u001b[0m\u001b[1;33m+\u001b[0m\u001b[0mbio\u001b[0m\u001b[1;33m\u001b[0m\u001b[1;33m\u001b[0m\u001b[0m\n\u001b[0m\u001b[0;32m      4\u001b[0m \u001b[0mprint\u001b[0m\u001b[1;33m(\u001b[0m\u001b[0mnew\u001b[0m\u001b[1;33m)\u001b[0m\u001b[1;33m\u001b[0m\u001b[1;33m\u001b[0m\u001b[0m\n",
      "\u001b[1;31mTypeError\u001b[0m: unsupported operand type(s) for +: 'dict' and 'dict'"
     ]
    }
   ],
   "source": [
    "\n",
    "#2. Just like lists, + operator is used to extend dictionaries?\n",
    "bio = {\"Sub1\":\"MATH\",\"Sub2\":\"Programming\"}\n",
    "new = my_data+bio\n",
    "print(new)\n",
    "\n",
    "#Unsupported opreand type's error occur which means + opreator can't be used to extend dictionaries.So answer is false."
   ]
  },
  {
   "cell_type": "code",
   "execution_count": 14,
   "metadata": {},
   "outputs": [
    {
     "ename": "SyntaxError",
     "evalue": "invalid syntax (<ipython-input-14-7d752c0cf42a>, line 1)",
     "output_type": "error",
     "traceback": [
      "\u001b[1;36m  File \u001b[1;32m\"<ipython-input-14-7d752c0cf42a>\"\u001b[1;36m, line \u001b[1;32m1\u001b[0m\n\u001b[1;33m    3. To access items from a dictionary, we specify the index of that item within [] like myDict[0]?\u001b[0m\n\u001b[1;37m        ^\u001b[0m\n\u001b[1;31mSyntaxError\u001b[0m\u001b[1;31m:\u001b[0m invalid syntax\n"
     ]
    }
   ],
   "source": [
    "#3. To access items from a dictionary, we specify the index of that item within [] like myDict[0]?\n",
    "\n",
    "print(my_data[0])\n",
    "\n",
    "#There is no index in dicitonary.So answer is false."
   ]
  },
  {
   "cell_type": "code",
   "execution_count": 20,
   "metadata": {},
   "outputs": [
    {
     "ename": "KeyError",
     "evalue": "'UNI'",
     "output_type": "error",
     "traceback": [
      "\u001b[1;31m---------------------------------------------------------------------------\u001b[0m",
      "\u001b[1;31mKeyError\u001b[0m                                  Traceback (most recent call last)",
      "\u001b[1;32m<ipython-input-20-097181b56857>\u001b[0m in \u001b[0;36m<module>\u001b[1;34m\u001b[0m\n\u001b[0;32m      1\u001b[0m \u001b[1;31m#4. When we use [] to access the value from a dictionary which does not exist in that dictionary….?\u001b[0m\u001b[1;33m\u001b[0m\u001b[1;33m\u001b[0m\u001b[1;33m\u001b[0m\u001b[0m\n\u001b[0;32m      2\u001b[0m \u001b[1;33m\u001b[0m\u001b[0m\n\u001b[1;32m----> 3\u001b[1;33m \u001b[0mmy_data\u001b[0m\u001b[1;33m[\u001b[0m\u001b[1;34m\"UNI\"\u001b[0m\u001b[1;33m]\u001b[0m\u001b[1;33m\u001b[0m\u001b[1;33m\u001b[0m\u001b[0m\n\u001b[0m",
      "\u001b[1;31mKeyError\u001b[0m: 'UNI'"
     ]
    }
   ],
   "source": [
    "#4. When we use [] to access the value from a dictionary which does not exist in that dictionary….?\n",
    "\n",
    "my_data[\"UNI\"]\n",
    "\n",
    "#error occurs which means he doesnot recoginze uni and no value is returned.So ans is d."
   ]
  },
  {
   "cell_type": "code",
   "execution_count": 21,
   "metadata": {},
   "outputs": [
    {
     "name": "stdout",
     "output_type": "stream",
     "text": [
      "Maimoona Kashaf\n"
     ]
    }
   ],
   "source": [
    "#5. What does return the pop method of a dictionary?\n",
    "\n",
    "print(my_data.pop(\"Name\",\"NOT FOUND!!!\"))\n",
    "\n",
    "#it return the value of the key when found.So the answer is d."
   ]
  },
  {
   "cell_type": "code",
   "execution_count": 22,
   "metadata": {},
   "outputs": [
    {
     "name": "stdout",
     "output_type": "stream",
     "text": [
      "('Semester', 6)\n"
     ]
    }
   ],
   "source": [
    "#6. What does return popitem method return?\n",
    "\n",
    "print(my_data.popitem())\n",
    "#it return the last key and its value.So the answer is b."
   ]
  },
  {
   "cell_type": "code",
   "execution_count": 28,
   "metadata": {},
   "outputs": [
    {
     "name": "stdout",
     "output_type": "stream",
     "text": [
      "dict_items([('Name', 'Maimoona Kashaf'), ('CGPA', 3.77), ('Age', 21), ('Degree', 'Software Engineering'), ('Semester', 6)])\n",
      "dict_values(['Maimoona Kashaf', 3.77, 21, 'Software Engineering', 6])\n"
     ]
    }
   ],
   "source": [
    "#7. Which of the following 2 methods can be used to iterate through the items of a dictionary?\n",
    "\n",
    "print(my_data.items())\n",
    "print(my_data.values())\n",
    "\n",
    "#Answer is a,b."
   ]
  },
  {
   "cell_type": "code",
   "execution_count": null,
   "metadata": {},
   "outputs": [],
   "source": [
    "\n",
    "#8. Which one of the following is used to enclose a dictionary?\n",
    "\n",
    "#Answer is b."
   ]
  },
  {
   "cell_type": "code",
   "execution_count": 54,
   "metadata": {},
   "outputs": [
    {
     "name": "stdout",
     "output_type": "stream",
     "text": [
      "IUIC\n",
      "Value and key both exists\n"
     ]
    }
   ],
   "source": [
    "#9. Write Python Program add key-value pair in dictionary and check if a Given Key or Value or Both Existsin a Dictionary or Not.\n",
    "\n",
    "my_data.update({\"University\":\"IUIC\"})\n",
    "print(my_data.pop(\"University\",\"Not Found!\"))\n",
    "\n",
    "value = my_data.pop(\"University\",\"Not Found!\")\n",
    "\n",
    "if my_data.pop(\"University\",\"Not Found!\") == value:\n",
    "    print(\"Value and key both exists\")\n",
    "elif my_data.pop(\"University\",\"Not Found!\") == 'Not Found!':\n",
    "    print(\"Key and value both do not exists\")\n",
    "else:\n",
    "    print(\"Key esixts but value do not exists\")\n",
    "\n"
   ]
  },
  {
   "cell_type": "code",
   "execution_count": 62,
   "metadata": {},
   "outputs": [
    {
     "name": "stdout",
     "output_type": "stream",
     "text": [
      "M :  2\n",
      "A :  4\n",
      "O :  2\n"
     ]
    }
   ],
   "source": [
    "#10. Write a Python Program to Count the Frequency of Words Appearing in a String Using a \n",
    "#Dictionary and print only the words having Even (divisible by 2) frequency.\n",
    "\n",
    "str_values = \"MAIMOONA KASHAF\"\n",
    "freq_dict ={}\n",
    "\n",
    "for item in str_values:\n",
    "    if (item in freq_dict):\n",
    "            freq_dict[item] += 1\n",
    "    else:\n",
    "        freq_dict[item] = 1\n",
    "for key, value in freq_dict.items():\n",
    "    if value%2 == 0:\n",
    "        print (\"% s : % d\"%(key, value)) "
   ]
  },
  {
   "cell_type": "code",
   "execution_count": null,
   "metadata": {},
   "outputs": [],
   "source": [
    "#11.X = [\"Feb\", Apr, Mar, May, Jun, Jul, Aug, Jan]. What will be output of following?\n",
    "X[0:3] # Feb,Apr,Mar\n",
    "X[2:8] # Mar onward till jan.\n",
    "X[4:9] #Jun onward till jan\n",
    "X[1:7:2] #Apr,May,Jul\n",
    "X[-1:-7] # Nothing because it take increment of +1 so index will never reach to -7.\n",
    "X[-7:7] #Apr onward till Aug becaue -7 index's value is -7 and 7 index is Aug\n",
    "X[-1:-8:-2]  # jan,jul,may,Apr\n",
    "X[:4] #feb ,apr,mar"
   ]
  },
  {
   "cell_type": "code",
   "execution_count": 63,
   "metadata": {},
   "outputs": [
    {
     "name": "stdout",
     "output_type": "stream",
     "text": [
      "[2, 8, 4, 5]\n"
     ]
    }
   ],
   "source": [
    "#12. Remove the correct number from the list X\n",
    "\n",
    "X = [ 9,2,8,4,5]\n",
    "X.remove(9)\n",
    "print(X)\n",
    "\n",
    "#Answer is 3"
   ]
  },
  {
   "cell_type": "code",
   "execution_count": 66,
   "metadata": {},
   "outputs": [
    {
     "name": "stdout",
     "output_type": "stream",
     "text": [
      "hello! hello! hello! \n"
     ]
    }
   ],
   "source": [
    "#13. p = 3 q = 'hello! '\n",
    "#print( q __?__ p) hello! hello! hello!\n",
    "p = 3\n",
    "q = 'hello! '\n",
    "print(q*p)\n",
    "\n",
    "#Answer is 1"
   ]
  },
  {
   "cell_type": "code",
   "execution_count": 68,
   "metadata": {},
   "outputs": [
    {
     "name": "stdout",
     "output_type": "stream",
     "text": [
      "THIS IS A RANDOM SENTENCE\n"
     ]
    }
   ],
   "source": [
    "14.\n",
    "y = \"this is a random sentence\"\n",
    "#print (y__?__) Output: THIS IS A RANDOM SENTENCE\n",
    "print(y.upper())\n",
    "\n",
    "#Answer is 3"
   ]
  },
  {
   "cell_type": "code",
   "execution_count": 71,
   "metadata": {},
   "outputs": [
    {
     "name": "stdout",
     "output_type": "stream",
     "text": [
      "<class 'bool'>\n",
      "<class 'str'>\n",
      "<class 'int'>\n",
      "<class 'float'>\n"
     ]
    }
   ],
   "source": [
    "#15.\n",
    "p = True\n",
    "q = 'True'\n",
    "r = 2\n",
    "s = 2.0\n",
    "print(type(p)) #bool\n",
    "print(type(q)) # String\n",
    "print(type(r))  # Integer\n",
    "print(type(s))  #float\n"
   ]
  },
  {
   "cell_type": "code",
   "execution_count": null,
   "metadata": {},
   "outputs": [],
   "source": [
    "#16. What are the optional arguments to the function?\n",
    "#function_1(R1, q, p=None, R2= None)\n",
    "\n",
    "#Answer is p and R2 2).\n"
   ]
  },
  {
   "cell_type": "code",
   "execution_count": null,
   "metadata": {},
   "outputs": [],
   "source": [
    "#17. Which command invokes method X() of the object p?\n",
    "#1) X(p)\n",
    "#2) p$x()\n",
    "#3) X().p\n",
    "#4) p.x()\n",
    "\n",
    "#Answer is 4 although there is x is smaller but all other option is invalid\n"
   ]
  },
  {
   "cell_type": "code",
   "execution_count": null,
   "metadata": {},
   "outputs": [],
   "source": [
    "18.\n",
    "X=4 , Y= 2\n",
    "print(X % Y) #0\n",
    "print(X / Y) # 2\n",
    "print(X // Y) #2\n",
    "print(Y % X) #2"
   ]
  },
  {
   "cell_type": "code",
   "execution_count": null,
   "metadata": {},
   "outputs": [],
   "source": [
    "#9. x = [[4, 1, 1], [5, 9, 0]]\n",
    "'''for i in __?__:\n",
    "for j in __?__:\n",
    "?\n",
    "Output: 4\n",
    "1\n",
    "1\n",
    "5\n",
    "9\n",
    "0'''\n",
    "\n",
    "# \n",
    "x = [[4, 1, 1], [5, 9, 0]]\n",
    "for i in __?__:\n",
    "for j in __?__:\n",
    "?\n",
    "Output: 4 5\n",
    "1 9\n",
    "1 0\n",
    "x = [[4, 1, 1], [5, 9, 0]]\n",
    "for i in __?__:\n",
    "for j in __?__:\n",
    "?\n",
    "Output: 4 1 1 5 9 0\n",
    "x = [[4, 1, 1], [5, 9, 0]]\n",
    "for i in __?__:\n",
    "for j in __?__:\n",
    "?\n",
    "Output: 4 1 1\n",
    "5 9 0'''\n",
    "\n"
   ]
  },
  {
   "cell_type": "code",
   "execution_count": null,
   "metadata": {},
   "outputs": [],
   "source": [
    "'''20. q = [10.62, 16.14, 6.45, 17.11]\n",
    "for __?__, z in enumerate (q) :\n",
    "print( ‘Item ‘ + str( j ) + ‘ - ‘, str ( z ))\n",
    "Output: Item 0 – 10.62\n",
    "Item 1 – 16.14\n",
    "Item 2 – 6.45\n",
    "Item 3 – 17.11\n",
    "1) z\n",
    "2) i\n",
    "3) j\n",
    "4) x\n",
    "5) k\n",
    "6) y'''\n",
    "# answer is 3) j."
   ]
  },
  {
   "cell_type": "code",
   "execution_count": null,
   "metadata": {},
   "outputs": [],
   "source": [
    "'''21. Which of these about a dictionary is false?\n",
    "a) The values of a dictionary can be accessed using keys\n",
    "b) The keys of a dictionary can be accessed using values\n",
    "c) Dictionaries aren’t ordered\n",
    "d) Dictionaries are mutable'''\n",
    "#Answer is b)"
   ]
  },
  {
   "cell_type": "code",
   "execution_count": null,
   "metadata": {},
   "outputs": [],
   "source": [
    "'''22. What is the output of the following:\n",
    "D = dict()\n",
    "for i in range (3):\n",
    "for j in range(2):\n",
    "D[i] = j\n",
    "a. {0: 1, 1: 1, 2: 1}\n",
    "b. {1: 0, 1: 1, 1: 2}\n",
    "c. {0: 1, 1: 2, 2: 3}\n",
    "d. {1: 2, 1: 1, 1: 0}'''\n",
    "# answer is a."
   ]
  },
  {
   "cell_type": "code",
   "execution_count": null,
   "metadata": {},
   "outputs": [],
   "source": [
    "'''23. You are writing a function that increments player score in a soccer game\n",
    "If no value is specified for points, then point must start with 1\n",
    "If no value is specified for bonus, then bonus should be True\n",
    "\n",
    "01 def increment_score ( bonus , score , points ):\n",
    "\n",
    "To meet the first requirement line 01 must be change to\n",
    " def increment_score ( bonus , score , points = 1 ): (True or False)''' #True\n",
    "'''To meet the second requirement line 01 must be change to\n",
    " def increment_score ( bonus = True , score , points = 1 ): (True or False)''' # False\n",
    "''' Once a parameter is defined with default value, any parameter to the right must also be defined with default\n",
    "values (True or False)''' #True\n",
    "\n",
    "# so the answer is True,False,True\n"
   ]
  },
  {
   "cell_type": "code",
   "execution_count": null,
   "metadata": {},
   "outputs": [],
   "source": [
    "'''24. What will be output?\n",
    "def avg ( x , y , z = 50 ):\n",
    "    adding = x + y + z\n",
    "    avg_value = adding / 3\n",
    "    return avg_value\n",
    "y = avg ( x = 5 , y = 9 , z = 20 )\n",
    "print(y)'''\n",
    "\n",
    "#Output is 11.34 becouse z will be 20 python will provide preference to it"
   ]
  },
  {
   "cell_type": "code",
   "execution_count": null,
   "metadata": {},
   "outputs": [],
   "source": [
    "'''25. What will be output? Describe it with reason and logic behind.\n",
    "Do multiple experiments with arguments / parameters to remove error, if occurs.\n",
    "def avg ( *opt_values , name ):\n",
    "avg_value = sum (opt_values) / len(opt_values)\n",
    "print(‘name is: ’ + name + ‘Marks: ’ + str(avg_value))\n",
    "avg ( 5 , 9 , 20, 34, 87, 112 , ‘Ali’ )'''\n",
    "\n",
    "#Output is 44.5 because in this *opt_value is created tupple of all value that is send to function avg and Ali is allocated \n",
    "#to name and built-in func sum is called and all value is added and divided by len(opt_value) which return the length of values\n",
    "#then it is printed inside the function"
   ]
  },
  {
   "cell_type": "code",
   "execution_count": 2,
   "metadata": {},
   "outputs": [
    {
     "ename": "SyntaxError",
     "evalue": "invalid character in identifier (<ipython-input-2-b825d2b41b7f>, line 6)",
     "output_type": "error",
     "traceback": [
      "\u001b[1;36m  File \u001b[1;32m\"<ipython-input-2-b825d2b41b7f>\"\u001b[1;36m, line \u001b[1;32m6\u001b[0m\n\u001b[1;33m    display_result(winner=“Manchester\", score=\"1-0\", overtime =\"yes\", injuries=\"none\")\u001b[0m\n\u001b[1;37m                                    ^\u001b[0m\n\u001b[1;31mSyntaxError\u001b[0m\u001b[1;31m:\u001b[0m invalid character in identifier\n"
     ]
    }
   ],
   "source": [
    "'''26. Final output is not required. Just take copy pencil, think and write the output of each line, \n",
    "write down the link between parameters and arguments. Remove one or two ** from other_info and observe the ouput.'''\n",
    "def display_result(winner, score, other_info): #function declaration **other_info create dictionary and store all other values\n",
    "    print(\"The winner was \" + winner) # print winner(Manchester)\n",
    "    print(\"The score was \" + score)  # print score\n",
    "display_result(winner=“Manchester\", score=\"1-0\", overtime =\"yes\", injuries=\"none\")\n",
    "\n",
    "#other_info is not used so it doesnot change the output by removing any of * But error will generated (Invalid character \n",
    "#in identifier ) which means it doesnot recognize the other values that are send to display_result function"
   ]
  },
  {
   "cell_type": "code",
   "execution_count": 16,
   "metadata": {},
   "outputs": [
    {
     "ename": "SyntaxError",
     "evalue": "invalid syntax (<ipython-input-16-87bdbe0751ef>, line 3)",
     "output_type": "error",
     "traceback": [
      "\u001b[1;36m  File \u001b[1;32m\"<ipython-input-16-87bdbe0751ef>\"\u001b[1;36m, line \u001b[1;32m3\u001b[0m\n\u001b[1;33m    def display_result(winner, **other_info,score):\u001b[0m\n\u001b[1;37m                                                ^\u001b[0m\n\u001b[1;31mSyntaxError\u001b[0m\u001b[1;31m:\u001b[0m invalid syntax\n"
     ]
    }
   ],
   "source": [
    "#27. The position of parameters and arguments is re-arranged. Just think and find the logic behind output or error.\n",
    "\n",
    "def display_result(winner, **other_info,score):\n",
    "    print(\"The winner was \" + winner)\n",
    "    print(\"The score was \" + score)\n",
    "display_result(winner=\"Manchester\", overtime =\"yes\", injuries=\"none\" , score=\"1-0\" )\n",
    "\n",
    "#**other_info is dictionary its stores all argumnets and their value with proper tags and parameter score is placed after it\n",
    "#it does not take any value that why error invalid syntax occur because it will never be used"
   ]
  },
  {
   "cell_type": "code",
   "execution_count": null,
   "metadata": {},
   "outputs": [],
   "source": [
    "#28. What will be the output of the following Python expression if X=123?\n",
    "'''print(“%06d”%X)\n",
    "a) 123000\n",
    "b) 000123\n",
    "c) 000000123\n",
    "d) 123000000'''\n",
    "\n",
    "#Answer is b)"
   ]
  },
  {
   "cell_type": "code",
   "execution_count": null,
   "metadata": {},
   "outputs": [],
   "source": [
    "#29. What will be the output of the following Python expression if x=22.19?\n",
    "'''print(\"%5.2f\"%x)\n",
    "a) 22.1900\n",
    "b) 22.00000\n",
    "c) 22.19\n",
    "d) 22.20'''\n",
    "\n",
    "#Answer is c)."
   ]
  },
  {
   "cell_type": "code",
   "execution_count": null,
   "metadata": {},
   "outputs": [],
   "source": [
    "#30. What will be the output of the following Python code?\n",
    "'''\n",
    "'{0:f}, {1:2f}, {2:05.2f}'.format(1.23456, 1.23456, 1.23456)\n",
    "a) Error b) ‘1.234560, 1.22345, 1.23’ c) No output d) ‘1.234560, 1.234560, 01.23’'''\n",
    "\n",
    "#Answer is d) this statement print the list and in this statment 0:f 0 represent the index no and f represent the memory \n",
    "#space it hold"
   ]
  },
  {
   "cell_type": "code",
   "execution_count": 17,
   "metadata": {},
   "outputs": [],
   "source": [
    "#31. Write down the output of each line after each iterations. Do multiple experiments to change values\n",
    "i = 1            #intiallization\n",
    "while False:     # loop wil not be executed because it is false,if it is true then loop will excute infintely \n",
    "                 #but we can give some range i.e. i<=50 etc\n",
    "    if i%2 == 0: # to check if i value is even or not\n",
    "        break   # if it is even control will be out of loop\n",
    "    print(i)    # other wise print ith value\n",
    "    i += 2      # take increment of 2"
   ]
  },
  {
   "cell_type": "code",
   "execution_count": 32,
   "metadata": {},
   "outputs": [
    {
     "name": "stdout",
     "output_type": "stream",
     "text": [
      "a a a a a a "
     ]
    }
   ],
   "source": [
    "#32. Write down the output of each line after each iterations. Do multiple experiments to change values\n",
    "x = \"fanicef\"\n",
    "i = \"a\"\n",
    "while i in x: #loop will excute to length of x means 6 time\n",
    "    x = x[:-1] #iterate list to its end mean f\n",
    "    print(i, end = \" \") # print i value which is a \n",
    "# output will be a a a a a a because loop will execute 6 time"
   ]
  },
  {
   "cell_type": "code",
   "execution_count": null,
   "metadata": {},
   "outputs": [],
   "source": [
    "#33. Write down the output of each line after each iterations. Do multiple experiments to change values\n",
    "for i in ''.join(reversed(list('abcd'))):#list() of string abcd reversed() used it to resversed the list and\n",
    "                                    # join() separate the string and attach 1 digit to each iteration\n",
    "    print (i) #so after 1st iteration i = d,\n",
    "              # 2nd iteration i=c\n",
    "              # 3rd iteration i=b\n",
    "              # 4th iteration i=a\n",
    "            #After it loop will end\n",
    "#If change value to abcd to maimoona the ouput will be\n",
    "#a\n",
    "#n\n",
    "#o\n",
    "#o\n",
    "#m\n",
    "#i\n",
    "#a\n",
    "#m"
   ]
  },
  {
   "cell_type": "code",
   "execution_count": null,
   "metadata": {},
   "outputs": [],
   "source": [
    "#34. Flow of the program. Write the output of each line after every iteration of ‘i’\n",
    "for i in range(10):# i will run from 0 to 9 \n",
    "    if i == 5:    # i=0,false  i =1,false i=2,false  i=3,false ,i=4,false  i=5,true\n",
    "        break     # excuute if its true and shift the control out of loop\n",
    "    else:         #when contidition is false control will come here and print 0, print 1 , print 2 , print 3 print 4\n",
    "        print(i)\n",
    "                   #then incremnet i from 0 to 1 and control goes to 3rd line, i = 1+1 ,i = 2+1, i=3+1 , i=4+1\n",
    "else:  #after control out of loop this else part will not be executed because else without if do not execute\n",
    "    #if you remove this else then after this Here will also be displayed\n",
    "    print(\"Here\")"
   ]
  },
  {
   "cell_type": "code",
   "execution_count": null,
   "metadata": {},
   "outputs": [],
   "source": [
    "#35. What is the output? And understand the functionality of lambda function\n",
    "y = 6 \n",
    "z = lambda x: x * y #lambda is small function without any name or specific defination in this code it receive 8 as argumnent\n",
    "                    # x is a parameter here which receive value and multiply it to y and return this value in z \n",
    "print(z(8)) # we call lambda func through this variable and pass 8 as argument"
   ]
  },
  {
   "cell_type": "code",
   "execution_count": null,
   "metadata": {},
   "outputs": [],
   "source": [
    "#36. Write output and give proper logic of whatever the output comes.\n",
    "i=0\n",
    "def change(i):\n",
    "    i=i+1\n",
    "    return i\n",
    "change(1)\n",
    "print(i)\n",
    "\n",
    "#output is 0 because although we pass argumnet to the change function but we did not receive its return value anywhere\n",
    "#and i is the global variable int full code its value will remain 0, if its not changed but if we receive value in i \n",
    "#i.e. i=change(1) then output will be 2"
   ]
  },
  {
   "cell_type": "code",
   "execution_count": null,
   "metadata": {},
   "outputs": [],
   "source": [
    "#40. What will be output? Define this output clearly\n",
    "def change(one, *two): \n",
    "    print(type(two))\n",
    "    print(two)\n",
    "change(1,2,3,4)\n",
    "\n",
    "#output will be tupple/list and 2,3,4\n",
    "# one recevive 1 because of position argumnet then remaining all will store in *two in form of tupple/list\n",
    "#when we print only two it will display it all content which is 2,3,4"
   ]
  },
  {
   "cell_type": "code",
   "execution_count": null,
   "metadata": {},
   "outputs": [],
   "source": [
    "#41. What will be output? Define this output clearly\n",
    "def find(a, **b):\n",
    "    print(type(b))\n",
    "find('letters',A='1',B='2')\n",
    "#output will be dictionary(dict) type which store value against its keys for example A:1 and B:2 "
   ]
  },
  {
   "cell_type": "code",
   "execution_count": null,
   "metadata": {},
   "outputs": [],
   "source": [
    "#42. Write output and define each line’s output for each iteration of ‘i’\n",
    "def foo(i, x=[]): #i=0 x is a list, i=1  ,i=2\n",
    "    x.append(i)  #appends i value to x now in this list is 0,Now again after this x has 0,1,Now again after this x has 0,1,2\n",
    "    return x    #return 0 ,return 0,1   ,return 0,1,2\n",
    "for i in range(3):#loop will excute from 0 to 2 first i=0\n",
    "    print(foo(i)) #func call(i=0) ,func call(i=1) ,func call(i=2) \n",
    "    #print 0 \n",
    "    #print 0,1\n",
    "    #print 0,1,2\n",
    "#output will be 0\n",
    "               # 0,1\n",
    "              #0,1,2"
   ]
  },
  {
   "cell_type": "code",
   "execution_count": 33,
   "metadata": {},
   "outputs": [
    {
     "data": {
      "text/plain": [
       "15"
      ]
     },
     "execution_count": 33,
     "metadata": {},
     "output_type": "execute_result"
    }
   ],
   "source": [
    "#43. Evaluate the following Python arithmetic expression: and write which segment will execute first? \n",
    "   # (Brackets, Exponents, Multiplication, Addition / Subtraction, Left to right rule)\n",
    "\n",
    "(3*(1+2)**2-(2**2)*3)\n",
    "\n",
    "#first (1+2) is executed "
   ]
  },
  {
   "cell_type": "code",
   "execution_count": null,
   "metadata": {},
   "outputs": [],
   "source": [
    "#44.You are creating a function that manipulates a number. The function has the following requirements:\n",
    "''' A float is passed into the function\n",
    " The function must take the absolute value of the float\n",
    " Any decimal points after the integer must be removed\n",
    "A. math.fmod(x)\n",
    "B. math.frexp(x)\n",
    "C. math.floor(x)\n",
    "D. math.ceil(x)\n",
    "E. math.fabs(x)'''\n",
    "#Answer is D."
   ]
  },
  {
   "cell_type": "code",
   "execution_count": null,
   "metadata": {},
   "outputs": [],
   "source": [
    "#45. You are writing code that generates a random integer with a minimum value of 5 and a maximum value of 11.\n",
    "'''Which two functions should you use? Each correct answer presents a complete solution. (Choose two.)\n",
    "A. random.randint(5, 12)\n",
    "B. random.randint(5, 11)\n",
    "C. random.randrange(5, 12, 1)\n",
    "D. random.randrange(5, 11, 1)'''\n",
    "\n",
    "#Answer is B,D"
   ]
  },
  {
   "cell_type": "code",
   "execution_count": 37,
   "metadata": {},
   "outputs": [
    {
     "name": "stdout",
     "output_type": "stream",
     "text": [
      "75\n",
      "C Grade\n"
     ]
    }
   ],
   "source": [
    "#46. Write a program that receives marks from user and check the grade.\n",
    "'''Marks greater than equal to 90 then A grade\n",
    "Marks between 80 to 90, B grade\n",
    "Marks between 70 to 80, C grade\n",
    "Marks between 60 to 70, D grade\n",
    "Marks less than equal to 60 then E grade'''\n",
    "\n",
    "    \n",
    "marks=int(input())\n",
    "if marks>=90:\n",
    "    print(\"A Grade\")\n",
    "elif marks<=89 and marks>=80:\n",
    "    print(\"B Grade\")\n",
    "elif marks<=79 and marks>=70:\n",
    "    print(\"C Grade\")   \n",
    "elif marks<=69 and marks>=60:\n",
    "    print(\"D Grade\")\n",
    "elif marks<60:\n",
    "    print(\"E Grade\")"
   ]
  },
  {
   "cell_type": "code",
   "execution_count": null,
   "metadata": {},
   "outputs": [],
   "source": []
  },
  {
   "cell_type": "code",
   "execution_count": null,
   "metadata": {},
   "outputs": [],
   "source": []
  }
 ],
 "metadata": {
  "kernelspec": {
   "display_name": "Python 3",
   "language": "python",
   "name": "python3"
  },
  "language_info": {
   "codemirror_mode": {
    "name": "ipython",
    "version": 3
   },
   "file_extension": ".py",
   "mimetype": "text/x-python",
   "name": "python",
   "nbconvert_exporter": "python",
   "pygments_lexer": "ipython3",
   "version": "3.7.4"
  }
 },
 "nbformat": 4,
 "nbformat_minor": 2
}
